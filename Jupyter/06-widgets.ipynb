{
 "cells": [
  {
   "cell_type": "markdown",
   "metadata": {},
   "source": [
    "# Widgets\n",
    "\n",
    "Se pueden ingresar *widgets* a los cuadernos Jupyter, importando el modulo `ipywidgets`."
   ]
  },
  {
   "cell_type": "code",
   "execution_count": 3,
   "metadata": {},
   "outputs": [],
   "source": [
    "from ipywidgets import widgets as wid"
   ]
  },
  {
   "cell_type": "markdown",
   "metadata": {},
   "source": [
    "Una vez importado se pueden construir widgets y mostrarlos por pantalla.\n",
    "\n",
    "**Referencia:**\n",
    "\n",
    "* https://ipywidgets.readthedocs.io/en/latest/examples/Widget%20List.html\n",
    "\n",
    "* https://www.tutorialspoint.com/jupyter/jupyter_notebook_ipywidgets.htm"
   ]
  },
  {
   "cell_type": "code",
   "execution_count": 4,
   "metadata": {},
   "outputs": [
    {
     "data": {
      "application/vnd.jupyter.widget-view+json": {
       "model_id": "4de10e1b6fca48b3ad34a63754281e7a",
       "version_major": 2,
       "version_minor": 0
      },
      "text/plain": [
       "Label(value='Nombre:')"
      ]
     },
     "metadata": {},
     "output_type": "display_data"
    },
    {
     "data": {
      "application/vnd.jupyter.widget-view+json": {
       "model_id": "dd49457820384da3b371205728fbae3c",
       "version_major": 2,
       "version_minor": 0
      },
      "text/plain": [
       "Text(value='')"
      ]
     },
     "metadata": {},
     "output_type": "display_data"
    },
    {
     "data": {
      "application/vnd.jupyter.widget-view+json": {
       "model_id": "b6cc205b780e46a1ba0563fbcf424657",
       "version_major": 2,
       "version_minor": 0
      },
      "text/plain": [
       "Button(description='Ingresar', style=ButtonStyle())"
      ]
     },
     "metadata": {},
     "output_type": "display_data"
    },
    {
     "data": {
      "application/vnd.jupyter.widget-view+json": {
       "model_id": "d7f3ac0f669940f39061a9f5d1d3357d",
       "version_major": 2,
       "version_minor": 0
      },
      "text/plain": [
       "Label(value='')"
      ]
     },
     "metadata": {},
     "output_type": "display_data"
    }
   ],
   "source": [
    "texto1   = wid.Label(\"Nombre:\")\n",
    "entrada1 = wid.Text()\n",
    "boton1   = wid.Button(description=\"Ingresar\")\n",
    "texto2   = wid.Label()\n",
    "\n",
    "def ingreso(b):\n",
    "\tnom = str(entrada1.value)\n",
    "\ttexto2.value=nom\n",
    "\n",
    "display(texto1)\n",
    "display(entrada1)\n",
    "display(boton1)\n",
    "display(texto2)\n",
    "\n",
    "boton1.on_click(ingreso)"
   ]
  }
 ],
 "metadata": {
  "interpreter": {
   "hash": "6867643a7307a9bf6d0ad3c3403dc142a44aeb72ce1151cce0f85d77b74f1e62"
  },
  "kernelspec": {
   "display_name": "Python 3 (ipykernel)",
   "language": "python",
   "name": "python3"
  },
  "language_info": {
   "codemirror_mode": {
    "name": "ipython",
    "version": 3
   },
   "file_extension": ".py",
   "mimetype": "text/x-python",
   "name": "python",
   "nbconvert_exporter": "python",
   "pygments_lexer": "ipython3",
   "version": "3.10.2"
  }
 },
 "nbformat": 4,
 "nbformat_minor": 2
}
