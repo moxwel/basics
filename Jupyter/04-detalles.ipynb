{
 "cells": [
  {
   "cell_type": "markdown",
   "id": "84489a5a",
   "metadata": {},
   "source": [
    "# 1. Comandos de sistema\n",
    "\n",
    "Se pueden ejecutar comandos del sistema operativo actual si se antepone un `!` antes del comando.\n",
    "\n",
    "* `!dir` para **Windows**\n",
    "\n",
    "* `!ls` para entornos **Linux**"
   ]
  },
  {
   "cell_type": "code",
   "execution_count": 1,
   "id": "e9a8e22e",
   "metadata": {},
   "outputs": [
    {
     "name": "stdout",
     "output_type": "stream",
     "text": [
      " El volumen de la unidad C es Windows-SSD\n",
      " El n�mero de serie del volumen es: 5882-2A29\n",
      "\n",
      " Directorio de c:\\Users\\maxim\\OneDrive\\Escritorio\\basics\\Jupyter Notebooks\n",
      "\n",
      "04/03/2022  18:40    <DIR>          .\n",
      "04/03/2022  18:40    <DIR>          ..\n",
      "04/03/2022  18:47               745 00-instalacion.ipynb\n",
      "04/03/2022  18:47             3.898 01-introduccion.ipynb\n",
      "02/03/2022  14:00             1.639 02-comentarios.ipynb\n",
      "02/03/2022  14:31             1.173 03-vscode.ipynb\n",
      "02/03/2022  15:32            10.530 04-detalles.ipynb\n",
      "04/03/2022  18:48             8.784 05-magic.ipynb\n",
      "02/03/2022  16:46             3.244 06-widgets.ipynb\n",
      "               7 archivos         30.013 bytes\n",
      "               2 dirs  185.624.764.416 bytes libres\n"
     ]
    }
   ],
   "source": [
    "!dir"
   ]
  },
  {
   "cell_type": "code",
   "execution_count": 2,
   "id": "d72aceb6",
   "metadata": {},
   "outputs": [
    {
     "name": "stderr",
     "output_type": "stream",
     "text": [
      "\"ls\" no se reconoce como un comando interno o externo,\n",
      "programa o archivo por lotes ejecutable.\n"
     ]
    }
   ],
   "source": [
    "!ls"
   ]
  },
  {
   "cell_type": "markdown",
   "id": "0f1f7aef",
   "metadata": {},
   "source": [
    "## 1.1. Usar salidas de comandos como entrada a Python\n",
    "\n",
    "Se puede utilizar la salida de un comando del sistema como entrada a Python, como en una variable por ejemplo."
   ]
  },
  {
   "cell_type": "code",
   "execution_count": 3,
   "id": "9426e4cb",
   "metadata": {},
   "outputs": [
    {
     "data": {
      "text/plain": [
       "['La fecha actual es: 04/03/2022 ', 'Escriba la nueva fecha: (dd-mm-aa) ']"
      ]
     },
     "execution_count": 3,
     "metadata": {},
     "output_type": "execute_result"
    }
   ],
   "source": [
    "texto = !date\n",
    "texto"
   ]
  },
  {
   "cell_type": "markdown",
   "id": "390dbb40",
   "metadata": {},
   "source": [
    "## 1.2. Usar variables de Python en comandos de sistema\n",
    "\n",
    "Se puede utilizar `{}` para ingresar valores de variables desde Python a un comando del sistema."
   ]
  },
  {
   "cell_type": "code",
   "execution_count": 4,
   "id": "ed3684c0",
   "metadata": {},
   "outputs": [
    {
     "data": {
      "text/plain": [
       "'Max'"
      ]
     },
     "execution_count": 4,
     "metadata": {},
     "output_type": "execute_result"
    }
   ],
   "source": [
    "variable_nombre = \"Max\"\n",
    "variable_nombre"
   ]
  },
  {
   "cell_type": "markdown",
   "id": "109a4e49",
   "metadata": {},
   "source": [
    "`echo` es el comando para imprimir por consola en **Windows**."
   ]
  },
  {
   "cell_type": "code",
   "execution_count": 5,
   "id": "05b194a8",
   "metadata": {},
   "outputs": [
    {
     "name": "stdout",
     "output_type": "stream",
     "text": [
      "\"Mi nombre es Max\"\n"
     ]
    }
   ],
   "source": [
    "!echo \"Mi nombre es {variable_nombre}\""
   ]
  },
  {
   "cell_type": "markdown",
   "id": "fd0ac3bb",
   "metadata": {},
   "source": [
    "# 2. Introspección de variables\n",
    "\n",
    "Se puede obtener mas detalles sobre una variable si se pone un `?` despues de la variable."
   ]
  },
  {
   "cell_type": "code",
   "execution_count": 6,
   "id": "5f464b50",
   "metadata": {},
   "outputs": [
    {
     "name": "stdout",
     "output_type": "stream",
     "text": [
      "\u001b[1;31mType:\u001b[0m        int\n",
      "\u001b[1;31mString form:\u001b[0m 10\n",
      "\u001b[1;31mDocstring:\u001b[0m  \n",
      "int([x]) -> integer\n",
      "int(x, base=10) -> integer\n",
      "\n",
      "Convert a number or string to an integer, or return 0 if no arguments\n",
      "are given.  If x is a number, return x.__int__().  For floating point\n",
      "numbers, this truncates towards zero.\n",
      "\n",
      "If x is not a number or if base is given, then x must be a string,\n",
      "bytes, or bytearray instance representing an integer literal in the\n",
      "given base.  The literal can be preceded by '+' or '-' and be surrounded\n",
      "by whitespace.  The base defaults to 10.  Valid bases are 0 and 2-36.\n",
      "Base 0 means to interpret the base from the string as an integer literal.\n",
      ">>> int('0b100', base=0)\n",
      "4\n"
     ]
    }
   ],
   "source": [
    "a = 10\n",
    "a?"
   ]
  },
  {
   "cell_type": "markdown",
   "id": "00542ed2",
   "metadata": {},
   "source": [
    "# 3. Historial de entrada/salida\n",
    "\n",
    "Con las variables `_i`, `_ii` y `_iii` se pueden obtener los 3 ultimos comandos **de entrada** usados, siendo `_i` el ultimo comando ingresado."
   ]
  },
  {
   "cell_type": "code",
   "execution_count": 7,
   "id": "ed470fc2",
   "metadata": {},
   "outputs": [
    {
     "name": "stdout",
     "output_type": "stream",
     "text": [
      "Entrada 1:\n",
      "a = 10\n",
      "a?\n",
      "\n",
      "Entrada 2:\n",
      "!echo \"Mi nombre es {variable_nombre}\"\n",
      "\n",
      "Entrada 3:\n",
      "variable_nombre = \"Max\"\n",
      "variable_nombre\n"
     ]
    }
   ],
   "source": [
    "print(\"Entrada 1:\\n\" + _i + \"\\n\")\n",
    "print(\"Entrada 2:\\n\" + _ii + \"\\n\")\n",
    "print(\"Entrada 3:\\n\" + _iii)"
   ]
  },
  {
   "cell_type": "markdown",
   "id": "480010dd",
   "metadata": {},
   "source": [
    "La variable `In` es una lista con **todas las entradas** hechas en el cuaderno. Usando `In[<numero>]` se puede acceder a una entrada en especifico."
   ]
  },
  {
   "cell_type": "code",
   "execution_count": 8,
   "id": "4a5e9136",
   "metadata": {},
   "outputs": [
    {
     "data": {
      "text/plain": [
       "['',\n",
       " \"get_ipython().system('dir')\",\n",
       " \"get_ipython().system('ls')\",\n",
       " \"texto = get_ipython().getoutput('date')\\ntexto\",\n",
       " 'variable_nombre = \"Max\"\\nvariable_nombre',\n",
       " 'get_ipython().system(\\'echo \"Mi nombre es {variable_nombre}\"\\')',\n",
       " \"a = 10\\nget_ipython().run_line_magic('pinfo', 'a')\",\n",
       " 'print(\"Entrada 1:\\\\n\" + _i + \"\\\\n\")\\nprint(\"Entrada 2:\\\\n\" + _ii + \"\\\\n\")\\nprint(\"Entrada 3:\\\\n\" + _iii)',\n",
       " 'In']"
      ]
     },
     "execution_count": 8,
     "metadata": {},
     "output_type": "execute_result"
    }
   ],
   "source": [
    "In"
   ]
  },
  {
   "cell_type": "code",
   "execution_count": 9,
   "id": "21a67da0",
   "metadata": {},
   "outputs": [
    {
     "data": {
      "text/plain": [
       "\"get_ipython().system('dir')\""
      ]
     },
     "execution_count": 9,
     "metadata": {},
     "output_type": "execute_result"
    }
   ],
   "source": [
    "In[1]"
   ]
  },
  {
   "cell_type": "markdown",
   "id": "572ccec3",
   "metadata": {},
   "source": [
    "De la misma manera, pero con las **salidas**.\n",
    "\n",
    "Con las variables `_`, `__` y `___` se pueden obtener las 3 ultimas **salidas** obtenidas, siendo `_` la ultima salida obtenida."
   ]
  },
  {
   "cell_type": "code",
   "execution_count": 10,
   "id": "cd71332b",
   "metadata": {},
   "outputs": [
    {
     "data": {
      "text/plain": [
       "\"get_ipython().system('dir')\""
      ]
     },
     "execution_count": 10,
     "metadata": {},
     "output_type": "execute_result"
    }
   ],
   "source": [
    "_"
   ]
  },
  {
   "cell_type": "markdown",
   "id": "1f91964f",
   "metadata": {},
   "source": [
    "La variable `Out` es una lista con **todas las salidas** obtenidas en el cuaderno. Usando `Out[<numero>]` se puede acceder a una salida en especifico."
   ]
  },
  {
   "cell_type": "code",
   "execution_count": 11,
   "id": "670dca61",
   "metadata": {},
   "outputs": [
    {
     "data": {
      "text/plain": [
       "{3: ['La fecha actual es: 04/03/2022 ', 'Escriba la nueva fecha: (dd-mm-aa) '],\n",
       " 4: 'Max',\n",
       " 8: ['',\n",
       "  \"get_ipython().system('dir')\",\n",
       "  \"get_ipython().system('ls')\",\n",
       "  \"texto = get_ipython().getoutput('date')\\ntexto\",\n",
       "  'variable_nombre = \"Max\"\\nvariable_nombre',\n",
       "  'get_ipython().system(\\'echo \"Mi nombre es {variable_nombre}\"\\')',\n",
       "  \"a = 10\\nget_ipython().run_line_magic('pinfo', 'a')\",\n",
       "  'print(\"Entrada 1:\\\\n\" + _i + \"\\\\n\")\\nprint(\"Entrada 2:\\\\n\" + _ii + \"\\\\n\")\\nprint(\"Entrada 3:\\\\n\" + _iii)',\n",
       "  'In',\n",
       "  'In[1]',\n",
       "  '_',\n",
       "  'Out'],\n",
       " 9: \"get_ipython().system('dir')\",\n",
       " 10: \"get_ipython().system('dir')\"}"
      ]
     },
     "execution_count": 11,
     "metadata": {},
     "output_type": "execute_result"
    }
   ],
   "source": [
    "Out"
   ]
  },
  {
   "cell_type": "code",
   "execution_count": 12,
   "id": "3adea8bc",
   "metadata": {},
   "outputs": [
    {
     "data": {
      "text/plain": [
       "['La fecha actual es: 04/03/2022 ', 'Escriba la nueva fecha: (dd-mm-aa) ']"
      ]
     },
     "execution_count": 12,
     "metadata": {},
     "output_type": "execute_result"
    }
   ],
   "source": [
    "Out[3]"
   ]
  }
 ],
 "metadata": {
  "kernelspec": {
   "display_name": "Python 3 (ipykernel)",
   "language": "python",
   "name": "python3"
  },
  "language_info": {
   "codemirror_mode": {
    "name": "ipython",
    "version": 3
   },
   "file_extension": ".py",
   "mimetype": "text/x-python",
   "name": "python",
   "nbconvert_exporter": "python",
   "pygments_lexer": "ipython3",
   "version": "3.10.2"
  }
 },
 "nbformat": 4,
 "nbformat_minor": 5
}
