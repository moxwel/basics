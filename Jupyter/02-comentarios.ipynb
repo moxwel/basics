{
 "cells": [
  {
   "cell_type": "code",
   "execution_count": 1,
   "id": "d5cd8d25",
   "metadata": {},
   "outputs": [
    {
     "name": "stdout",
     "output_type": "stream",
     "text": [
      "Lo bueno de Jupyter es que esta hecho de manera que cualquier persona pueda ver el programa y entender que esta sucediendo\n"
     ]
    }
   ],
   "source": [
    "print(\"Lo bueno de Jupyter es que esta hecho de manera que cualquier persona pueda ver el programa y entender que esta sucediendo\")"
   ]
  },
  {
   "cell_type": "code",
   "execution_count": 2,
   "id": "5a2e8fc7",
   "metadata": {},
   "outputs": [],
   "source": [
    "# En vez de utilizar comentarios clasicos de Python...."
   ]
  },
  {
   "attachments": {},
   "cell_type": "markdown",
   "id": "9136039d",
   "metadata": {},
   "source": [
    "..se puede escribir texto en **Markdown**, y de esta forma *mejorar la legibilidad del programa*.\n",
    "\n",
    "# Usando títulos\n",
    "\n",
    "## Subtitulos\n",
    "\n",
    "* Listas\n",
    "\n",
    "Imagenes...\n",
    "![Imagenes](https://cdni.rbth.com/rbthmedia/images/2021.05/original/60b4cf3885600a50dd341bb2.jpg)\n",
    "\n",
    "`Etc...`"
   ]
  }
 ],
 "metadata": {
  "kernelspec": {
   "display_name": "Python 3 (ipykernel)",
   "language": "python",
   "name": "python3"
  },
  "language_info": {
   "codemirror_mode": {
    "name": "ipython",
    "version": 3
   },
   "file_extension": ".py",
   "mimetype": "text/x-python",
   "name": "python",
   "nbconvert_exporter": "python",
   "pygments_lexer": "ipython3",
   "version": "3.10.2"
  }
 },
 "nbformat": 4,
 "nbformat_minor": 5
}
