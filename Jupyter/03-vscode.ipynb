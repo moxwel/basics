{
 "cells": [
  {
   "cell_type": "markdown",
   "metadata": {},
   "source": [
    "# Usando Jupyter Notebooks en Visual Studio Code\n",
    "\n",
    "Para usar los cuadernos Jupyter en VScode, se debe instalar [la extensión de Pyhton desde la marketplace](https://marketplace.visualstudio.com/items?itemName=ms-python.python), esto ya incluye la extension de Jupyter necesario para que funcione.\n",
    "\n",
    "A continuación, se debe crear un nuevo archivo con extension `.ipynb`, y automaticamente la extensión comenzará a ejecutarse.\n",
    "\n",
    "Ahora ya podremos ejecutar bloques dentro de VScode."
   ]
  }
 ],
 "metadata": {
  "interpreter": {
   "hash": "6867643a7307a9bf6d0ad3c3403dc142a44aeb72ce1151cce0f85d77b74f1e62"
  },
  "kernelspec": {
   "display_name": "Python 3 (ipykernel)",
   "language": "python",
   "name": "python3"
  },
  "language_info": {
   "codemirror_mode": {
    "name": "ipython",
    "version": 3
   },
   "file_extension": ".py",
   "mimetype": "text/x-python",
   "name": "python",
   "nbconvert_exporter": "python",
   "pygments_lexer": "ipython3",
   "version": "3.10.2"
  }
 },
 "nbformat": 4,
 "nbformat_minor": 2
}
