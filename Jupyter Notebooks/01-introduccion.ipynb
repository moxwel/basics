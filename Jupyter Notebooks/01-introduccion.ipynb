{
 "cells": [
  {
   "cell_type": "code",
   "execution_count": 2,
   "id": "85d1261d",
   "metadata": {
    "scrolled": true
   },
   "outputs": [
    {
     "name": "stdout",
     "output_type": "stream",
     "text": [
      "Hola mundo.\n"
     ]
    }
   ],
   "source": [
    "print(\"Hola mundo.\")"
   ]
  },
  {
   "cell_type": "code",
   "execution_count": 3,
   "id": "76fd4899",
   "metadata": {},
   "outputs": [
    {
     "name": "stdout",
     "output_type": "stream",
     "text": [
      "Esto es un bloque.\n"
     ]
    }
   ],
   "source": [
    "print(\"Esto es un bloque.\")"
   ]
  },
  {
   "cell_type": "code",
   "execution_count": 4,
   "id": "e33fb002",
   "metadata": {},
   "outputs": [
    {
     "name": "stdout",
     "output_type": "stream",
     "text": [
      "Cada bloque puede ejecutar comandos independientes, pero todos son parte de un mismo programa.\n"
     ]
    }
   ],
   "source": [
    "print(\"Cada bloque puede ejecutar comandos independientes, pero todos son parte de un mismo programa.\")"
   ]
  },
  {
   "cell_type": "code",
   "execution_count": 5,
   "id": "a9296b22",
   "metadata": {},
   "outputs": [
    {
     "name": "stdout",
     "output_type": "stream",
     "text": [
      "Creando variables en un bloque...\n"
     ]
    }
   ],
   "source": [
    "print(\"Creando variables en un bloque...\")\n",
    "nombre = \"Max\""
   ]
  },
  {
   "cell_type": "code",
   "execution_count": 6,
   "id": "f6469ce3",
   "metadata": {},
   "outputs": [
    {
     "name": "stdout",
     "output_type": "stream",
     "text": [
      "Y una vez ejecutado el bloque anterior, se puede usar en otros bloques...\n",
      "Mi nombre es Max\n"
     ]
    }
   ],
   "source": [
    "print(\"Y una vez ejecutado el bloque anterior, se puede usar en otros bloques...\")\n",
    "print(\"Mi nombre es \" + nombre)"
   ]
  },
  {
   "cell_type": "code",
   "execution_count": 7,
   "id": "9767b65f",
   "metadata": {},
   "outputs": [
    {
     "name": "stdout",
     "output_type": "stream",
     "text": [
      "Cada ejecucion tiene un numero, como In[<numero>]. Esto representa el ORDEN en como se han ejecutado los bloques.\n"
     ]
    }
   ],
   "source": [
    "print(\"Cada ejecucion tiene un numero, como In[<numero>]. Esto representa el ORDEN en como se han ejecutado los bloques.\")"
   ]
  },
  {
   "cell_type": "code",
   "execution_count": 8,
   "id": "c5eb9335",
   "metadata": {},
   "outputs": [
    {
     "name": "stdout",
     "output_type": "stream",
     "text": [
      "Se puede reiniciar el programa, borrando todas las variables almacenadas. Esto como si fuera un reinicio de Python.\n"
     ]
    }
   ],
   "source": [
    "print(\"Se puede reiniciar el programa, borrando todas las variables almacenadas. Esto como si fuera un reinicio de Python.\")"
   ]
  },
  {
   "cell_type": "code",
   "execution_count": 9,
   "id": "b453deda",
   "metadata": {},
   "outputs": [
    {
     "data": {
      "text/plain": [
       "'No es necesario utilizar print para obtener los valores de las variables. Se obtienen inmediatamente al evaluarlos. Notese el Out[<numero>].'"
      ]
     },
     "execution_count": 9,
     "metadata": {},
     "output_type": "execute_result"
    }
   ],
   "source": [
    "texto = \"No es necesario utilizar print para obtener los valores de las variables. Se obtienen inmediatamente al evaluarlos. Notese el Out[<numero>].\"\n",
    "texto"
   ]
  }
 ],
 "metadata": {
  "kernelspec": {
   "display_name": "Python 3 (ipykernel)",
   "language": "python",
   "name": "python3"
  },
  "language_info": {
   "codemirror_mode": {
    "name": "ipython",
    "version": 3
   },
   "file_extension": ".py",
   "mimetype": "text/x-python",
   "name": "python",
   "nbconvert_exporter": "python",
   "pygments_lexer": "ipython3",
   "version": "3.10.2"
  }
 },
 "nbformat": 4,
 "nbformat_minor": 5
}
