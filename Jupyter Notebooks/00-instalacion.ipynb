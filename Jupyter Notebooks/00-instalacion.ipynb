{
 "cells": [
  {
   "cell_type": "markdown",
   "metadata": {},
   "source": [
    "# Instalación\n",
    "\n",
    "Antes de comenzar, es necesario instalar Jupyter en Python. Para ello, hay que utilizar el administrador de paquetes Pip.\n",
    "\n",
    "> Se utilizó Python 3.10.2 de 64 bits\n",
    "\n",
    "```sh\n",
    "$ pip install jupyter\n",
    "```"
   ]
  }
 ],
 "metadata": {
  "interpreter": {
   "hash": "f7407ae589c81c631ad8a0f15ba7c479bc66462c4d243785aa518d46bbc4cd85"
  },
  "kernelspec": {
   "display_name": "Python 3.10.2 64-bit",
   "language": "python",
   "name": "python3"
  },
  "language_info": {
   "name": "python",
   "version": "3.10.2"
  },
  "orig_nbformat": 4
 },
 "nbformat": 4,
 "nbformat_minor": 2
}
